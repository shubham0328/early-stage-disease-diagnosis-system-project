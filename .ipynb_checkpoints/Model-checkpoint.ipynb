{
 "cells": [
  {
   "cell_type": "markdown",
   "id": "296f5227-66d9-46e1-9336-d3bee1b5ba6f",
   "metadata": {},
   "source": [
    "# Import required libraries"
   ]
  },
  {
   "cell_type": "code",
   "execution_count": 1,
   "id": "5bae33fa-5847-463d-9e8a-e8217a452e8a",
   "metadata": {},
   "outputs": [
    {
     "name": "stdout",
     "output_type": "stream",
     "text": [
      "WARNING:tensorflow:From C:\\Users\\SHUBHAM\\anaconda3\\lib\\site-packages\\keras\\src\\losses.py:2976: The name tf.losses.sparse_softmax_cross_entropy is deprecated. Please use tf.compat.v1.losses.sparse_softmax_cross_entropy instead.\n",
      "\n"
     ]
    }
   ],
   "source": [
    "\n",
    "from tensorflow.keras.layers import Dense, Flatten, Input\n",
    "from tensorflow.keras.models import Model\n",
    "from tensorflow.keras.preprocessing import image\n",
    "from tensorflow.keras.preprocessing.image import ImageDataGenerator, load_img\n",
    "from tensorflow.keras.applications.vgg16 import VGG16, preprocess_input \n",
    "from glob import glob\n",
    "import numpy as np\n",
    "import matplotlib.pyplot as plt"
   ]
  },
  {
   "cell_type": "markdown",
   "id": "97f02985-34d0-44fc-bf20-d25f522f07e8",
   "metadata": {},
   "source": [
    "## Loading Model"
   ]
  },
  {
   "cell_type": "code",
   "execution_count": 2,
   "id": "17ff17fc-d5e8-4867-8554-27f3d867d5bd",
   "metadata": {},
   "outputs": [],
   "source": [
    "imageSize = [224, 224]\n"
   ]
  },
  {
   "cell_type": "code",
   "execution_count": 3,
   "id": "c7e2352e-7843-4fc2-9d71-3574812bab80",
   "metadata": {},
   "outputs": [
    {
     "name": "stdout",
     "output_type": "stream",
     "text": [
      "WARNING:tensorflow:From C:\\Users\\SHUBHAM\\anaconda3\\lib\\site-packages\\keras\\src\\backend.py:1398: The name tf.executing_eagerly_outside_functions is deprecated. Please use tf.compat.v1.executing_eagerly_outside_functions instead.\n",
      "\n",
      "WARNING:tensorflow:From C:\\Users\\SHUBHAM\\anaconda3\\lib\\site-packages\\keras\\src\\layers\\pooling\\max_pooling2d.py:161: The name tf.nn.max_pool is deprecated. Please use tf.nn.max_pool2d instead.\n",
      "\n"
     ]
    }
   ],
   "source": [
    "vgg = VGG16(input_shape=imageSize + [3], weights='imagenet', include_top=False)\n",
    "\n"
   ]
  },
  {
   "cell_type": "markdown",
   "id": "101146f0-f63b-4c29-8df6-d0f946aae56e",
   "metadata": {},
   "source": [
    "##  Adding Flattten Layers"
   ]
  },
  {
   "cell_type": "code",
   "execution_count": 4,
   "id": "c788509b-10b3-4769-9b39-5ed383f0f033",
   "metadata": {},
   "outputs": [],
   "source": [
    "for layer in vgg.layers:\n",
    "    layer.trainable = False\n"
   ]
  },
  {
   "cell_type": "code",
   "execution_count": 5,
   "id": "01cef75c-ab17-4466-b2d6-0b04f149fb8a",
   "metadata": {},
   "outputs": [],
   "source": [
    "x = Flatten()(vgg.output)\n"
   ]
  },
  {
   "cell_type": "code",
   "execution_count": 16,
   "id": "7fa3e65e-2024-4c00-9438-ea7674516c28",
   "metadata": {},
   "outputs": [],
   "source": [
    "prediction = Dense(19, activation='softmax')(x) \n"
   ]
  },
  {
   "cell_type": "code",
   "execution_count": 17,
   "id": "fea29249-75be-4809-b243-af4e98aaa262",
   "metadata": {},
   "outputs": [],
   "source": [
    "model = Model(inputs=vgg.input, outputs=prediction)"
   ]
  },
  {
   "cell_type": "code",
   "execution_count": 18,
   "id": "4bce786b-76e2-43d6-b2e5-5c0ea3a73b9b",
   "metadata": {},
   "outputs": [
    {
     "name": "stdout",
     "output_type": "stream",
     "text": [
      "Model: \"model_1\"\n",
      "_________________________________________________________________\n",
      " Layer (type)                Output Shape              Param #   \n",
      "=================================================================\n",
      " input_1 (InputLayer)        [(None, 224, 224, 3)]     0         \n",
      "                                                                 \n",
      " block1_conv1 (Conv2D)       (None, 224, 224, 64)      1792      \n",
      "                                                                 \n",
      " block1_conv2 (Conv2D)       (None, 224, 224, 64)      36928     \n",
      "                                                                 \n",
      " block1_pool (MaxPooling2D)  (None, 112, 112, 64)      0         \n",
      "                                                                 \n",
      " block2_conv1 (Conv2D)       (None, 112, 112, 128)     73856     \n",
      "                                                                 \n",
      " block2_conv2 (Conv2D)       (None, 112, 112, 128)     147584    \n",
      "                                                                 \n",
      " block2_pool (MaxPooling2D)  (None, 56, 56, 128)       0         \n",
      "                                                                 \n",
      " block3_conv1 (Conv2D)       (None, 56, 56, 256)       295168    \n",
      "                                                                 \n",
      " block3_conv2 (Conv2D)       (None, 56, 56, 256)       590080    \n",
      "                                                                 \n",
      " block3_conv3 (Conv2D)       (None, 56, 56, 256)       590080    \n",
      "                                                                 \n",
      " block3_pool (MaxPooling2D)  (None, 28, 28, 256)       0         \n",
      "                                                                 \n",
      " block4_conv1 (Conv2D)       (None, 28, 28, 512)       1180160   \n",
      "                                                                 \n",
      " block4_conv2 (Conv2D)       (None, 28, 28, 512)       2359808   \n",
      "                                                                 \n",
      " block4_conv3 (Conv2D)       (None, 28, 28, 512)       2359808   \n",
      "                                                                 \n",
      " block4_pool (MaxPooling2D)  (None, 14, 14, 512)       0         \n",
      "                                                                 \n",
      " block5_conv1 (Conv2D)       (None, 14, 14, 512)       2359808   \n",
      "                                                                 \n",
      " block5_conv2 (Conv2D)       (None, 14, 14, 512)       2359808   \n",
      "                                                                 \n",
      " block5_conv3 (Conv2D)       (None, 14, 14, 512)       2359808   \n",
      "                                                                 \n",
      " block5_pool (MaxPooling2D)  (None, 7, 7, 512)         0         \n",
      "                                                                 \n",
      " flatten (Flatten)           (None, 25088)             0         \n",
      "                                                                 \n",
      " dense_1 (Dense)             (None, 19)                476691    \n",
      "                                                                 \n",
      "=================================================================\n",
      "Total params: 15191379 (57.95 MB)\n",
      "Trainable params: 476691 (1.82 MB)\n",
      "Non-trainable params: 14714688 (56.13 MB)\n",
      "_________________________________________________________________\n"
     ]
    }
   ],
   "source": [
    "model.summary()"
   ]
  },
  {
   "cell_type": "code",
   "execution_count": 19,
   "id": "f236a170-ce0c-4222-a35c-ce3bd97839af",
   "metadata": {},
   "outputs": [],
   "source": [
    "model.compile(\n",
    "    loss='categorical_crossentropy',  \n",
    "    optimizer='adam',\n",
    "    metrics=['accuracy']\n",
    ")\n"
   ]
  },
  {
   "cell_type": "code",
   "execution_count": 20,
   "id": "60731acc-c8f0-4264-b969-f0f9a680f056",
   "metadata": {},
   "outputs": [],
   "source": [
    "train_datagen = ImageDataGenerator(rescale=1./255,shear_range=0.2, horizontal_flip=True, zoom_range=0.2)\n",
    "test_datagen = ImageDataGenerator(rescale=1./255)"
   ]
  },
  {
   "cell_type": "code",
   "execution_count": 21,
   "id": "8855e60d-1c8d-404c-9c00-ed8db37d77ab",
   "metadata": {},
   "outputs": [],
   "source": [
    "\n",
    "train_path = r'C:\\Users\\SHUBHAM\\OneDrive\\Desktop\\early-stage-disease-diagnosis-system\\dataset\\train'\n",
    "test_path = r'C:\\Users\\SHUBHAM\\OneDrive\\Desktop\\early-stage-disease-diagnosis-system\\dataset\\test'\n"
   ]
  },
  {
   "cell_type": "code",
   "execution_count": 22,
   "id": "ad30b02d-7981-4e89-92a3-14f3c9434eee",
   "metadata": {},
   "outputs": [
    {
     "name": "stdout",
     "output_type": "stream",
     "text": [
      "Found 655 images belonging to 19 classes.\n",
      "Found 184 images belonging to 19 classes.\n"
     ]
    }
   ],
   "source": [
    "train_set = train_datagen.flow_from_directory(\n",
    "    train_path,\n",
    "    target_size=(224, 224),\n",
    "    batch_size=32,\n",
    "    class_mode='categorical'\n",
    ")\n",
    "\n",
    "test_set = test_datagen.flow_from_directory(\n",
    "    test_path,  \n",
    "    target_size=(224, 224),\n",
    "    batch_size=32,\n",
    "    class_mode='categorical'\n",
    ")\n"
   ]
  },
  {
   "cell_type": "code",
   "execution_count": 23,
   "id": "041a2a1c-70d5-488d-81ac-1ac051b7dc13",
   "metadata": {},
   "outputs": [
    {
     "data": {
      "text/plain": [
       "{'Darier_s disease': 0,\n",
       " 'Muehrck-e_s lines': 1,\n",
       " 'aloperia areata': 2,\n",
       " 'beau_s lines': 3,\n",
       " 'bluish nail': 4,\n",
       " 'clubbing': 5,\n",
       " 'eczema': 6,\n",
       " 'half and half nailes (Lindsay_s nails)': 7,\n",
       " 'healthy': 8,\n",
       " 'inflected': 9,\n",
       " 'koilonychia': 10,\n",
       " 'leukonychia': 11,\n",
       " 'onycholycis': 12,\n",
       " 'pale nail': 13,\n",
       " 'red lunula': 14,\n",
       " 'splinter hemmorrage': 15,\n",
       " 'terry_s nail': 16,\n",
       " 'white nail': 17,\n",
       " 'yellow nails': 18}"
      ]
     },
     "execution_count": 23,
     "metadata": {},
     "output_type": "execute_result"
    }
   ],
   "source": [
    "train_set.class_indices"
   ]
  },
  {
   "cell_type": "code",
   "execution_count": 24,
   "id": "713a1240-be6c-49a8-b34c-d4f21b02b553",
   "metadata": {},
   "outputs": [
    {
     "name": "stdout",
     "output_type": "stream",
     "text": [
      "Epoch 1/100\n",
      "7/7 [==============================] - 160s 23s/step - loss: 3.8188 - accuracy: 0.0938 - val_loss: 3.3112 - val_accuracy: 0.0469\n",
      "Epoch 2/100\n",
      "7/7 [==============================] - 139s 20s/step - loss: 3.3478 - accuracy: 0.1063 - val_loss: 3.3929 - val_accuracy: 0.1562\n",
      "Epoch 3/100\n",
      "7/7 [==============================] - 140s 20s/step - loss: 3.0858 - accuracy: 0.1741 - val_loss: 3.0882 - val_accuracy: 0.2031\n",
      "Epoch 4/100\n",
      "7/7 [==============================] - 138s 20s/step - loss: 2.6010 - accuracy: 0.2222 - val_loss: 3.3452 - val_accuracy: 0.2188\n",
      "Epoch 5/100\n",
      "7/7 [==============================] - 146s 21s/step - loss: 2.7073 - accuracy: 0.2366 - val_loss: 2.4445 - val_accuracy: 0.3438\n",
      "Epoch 6/100\n",
      "7/7 [==============================] - 141s 21s/step - loss: 2.2748 - accuracy: 0.2545 - val_loss: 2.5954 - val_accuracy: 0.3125\n",
      "Epoch 7/100\n",
      "7/7 [==============================] - 140s 20s/step - loss: 2.2136 - accuracy: 0.3482 - val_loss: 1.9666 - val_accuracy: 0.4688\n",
      "Epoch 8/100\n",
      "7/7 [==============================] - 143s 21s/step - loss: 2.0245 - accuracy: 0.4107 - val_loss: 2.0867 - val_accuracy: 0.3750\n",
      "Epoch 9/100\n",
      "7/7 [==============================] - 130s 20s/step - loss: 1.9540 - accuracy: 0.4286 - val_loss: 1.8729 - val_accuracy: 0.4688\n",
      "Epoch 10/100\n",
      "7/7 [==============================] - 142s 21s/step - loss: 1.8900 - accuracy: 0.4286 - val_loss: 1.6149 - val_accuracy: 0.5312\n",
      "Epoch 11/100\n",
      "7/7 [==============================] - 143s 21s/step - loss: 1.7312 - accuracy: 0.5000 - val_loss: 1.7629 - val_accuracy: 0.5312\n",
      "Epoch 12/100\n",
      "7/7 [==============================] - 138s 20s/step - loss: 1.6960 - accuracy: 0.5134 - val_loss: 2.0191 - val_accuracy: 0.4219\n",
      "Epoch 13/100\n",
      "7/7 [==============================] - 143s 21s/step - loss: 1.6621 - accuracy: 0.5223 - val_loss: 1.4345 - val_accuracy: 0.5938\n",
      "Epoch 14/100\n",
      "7/7 [==============================] - 150s 22s/step - loss: 1.5231 - accuracy: 0.5625 - val_loss: 1.4224 - val_accuracy: 0.6406\n",
      "Epoch 15/100\n",
      "7/7 [==============================] - 137s 20s/step - loss: 1.5354 - accuracy: 0.5804 - val_loss: 1.8149 - val_accuracy: 0.4844\n",
      "Epoch 16/100\n",
      "7/7 [==============================] - 138s 20s/step - loss: 1.5079 - accuracy: 0.5491 - val_loss: 1.6286 - val_accuracy: 0.6406\n",
      "Epoch 17/100\n",
      "7/7 [==============================] - 137s 20s/step - loss: 1.4832 - accuracy: 0.5714 - val_loss: 1.4011 - val_accuracy: 0.5938\n",
      "Epoch 18/100\n",
      "7/7 [==============================] - 153s 22s/step - loss: 1.5401 - accuracy: 0.5625 - val_loss: 1.3507 - val_accuracy: 0.6406\n",
      "Epoch 19/100\n",
      "7/7 [==============================] - 137s 20s/step - loss: 1.2765 - accuracy: 0.6384 - val_loss: 1.3051 - val_accuracy: 0.6562\n",
      "Epoch 20/100\n",
      "7/7 [==============================] - 144s 21s/step - loss: 1.3780 - accuracy: 0.6250 - val_loss: 1.2055 - val_accuracy: 0.6562\n",
      "Epoch 21/100\n",
      "7/7 [==============================] - 133s 19s/step - loss: 1.2022 - accuracy: 0.6522 - val_loss: 1.4245 - val_accuracy: 0.6094\n",
      "Epoch 22/100\n",
      "7/7 [==============================] - 139s 20s/step - loss: 1.3128 - accuracy: 0.6339 - val_loss: 1.2426 - val_accuracy: 0.6875\n",
      "Epoch 23/100\n",
      "7/7 [==============================] - 150s 22s/step - loss: 1.2819 - accuracy: 0.6295 - val_loss: 1.0740 - val_accuracy: 0.7031\n",
      "Epoch 24/100\n",
      "7/7 [==============================] - 140s 20s/step - loss: 1.2522 - accuracy: 0.6607 - val_loss: 1.3510 - val_accuracy: 0.7188\n",
      "Epoch 25/100\n",
      "7/7 [==============================] - 142s 21s/step - loss: 1.3056 - accuracy: 0.6116 - val_loss: 1.1152 - val_accuracy: 0.7188\n",
      "Epoch 26/100\n",
      "7/7 [==============================] - 144s 21s/step - loss: 1.1914 - accuracy: 0.6607 - val_loss: 1.1463 - val_accuracy: 0.6250\n",
      "Epoch 27/100\n",
      "7/7 [==============================] - 143s 21s/step - loss: 1.3283 - accuracy: 0.5604 - val_loss: 1.3005 - val_accuracy: 0.7344\n",
      "Epoch 28/100\n",
      "7/7 [==============================] - 2630s 8s/step - loss: 1.0696 - accuracy: 0.7009 - val_loss: 0.9425 - val_accuracy: 0.7656\n",
      "Epoch 29/100\n",
      "7/7 [==============================] - 57s 8s/step - loss: 1.0641 - accuracy: 0.7098 - val_loss: 1.0025 - val_accuracy: 0.7188\n",
      "Epoch 30/100\n",
      "7/7 [==============================] - 52s 7s/step - loss: 1.1126 - accuracy: 0.6908 - val_loss: 1.2695 - val_accuracy: 0.7344\n",
      "Epoch 31/100\n",
      "7/7 [==============================] - 52s 8s/step - loss: 1.0922 - accuracy: 0.7005 - val_loss: 0.9922 - val_accuracy: 0.7188\n",
      "Epoch 32/100\n",
      "7/7 [==============================] - 56s 8s/step - loss: 0.9291 - accuracy: 0.7366 - val_loss: 0.7208 - val_accuracy: 0.7969\n",
      "Epoch 33/100\n",
      "7/7 [==============================] - 56s 8s/step - loss: 1.0653 - accuracy: 0.7054 - val_loss: 0.7651 - val_accuracy: 0.7500\n",
      "Epoch 34/100\n",
      "7/7 [==============================] - 55s 8s/step - loss: 0.9324 - accuracy: 0.7679 - val_loss: 0.7835 - val_accuracy: 0.8281\n",
      "Epoch 35/100\n",
      "7/7 [==============================] - 55s 8s/step - loss: 0.9587 - accuracy: 0.7723 - val_loss: 0.8836 - val_accuracy: 0.7344\n",
      "Epoch 36/100\n",
      "7/7 [==============================] - 54s 8s/step - loss: 1.0241 - accuracy: 0.6786 - val_loss: 1.1736 - val_accuracy: 0.7344\n",
      "Epoch 37/100\n",
      "7/7 [==============================] - 54s 8s/step - loss: 0.9114 - accuracy: 0.7488 - val_loss: 0.9089 - val_accuracy: 0.7188\n",
      "Epoch 38/100\n",
      "7/7 [==============================] - 56s 8s/step - loss: 0.9782 - accuracy: 0.7232 - val_loss: 1.0826 - val_accuracy: 0.7812\n",
      "Epoch 39/100\n",
      "7/7 [==============================] - 54s 8s/step - loss: 0.9624 - accuracy: 0.7366 - val_loss: 0.8547 - val_accuracy: 0.7969\n",
      "Epoch 40/100\n",
      "7/7 [==============================] - 55s 8s/step - loss: 0.7648 - accuracy: 0.8214 - val_loss: 0.6646 - val_accuracy: 0.8438\n",
      "Epoch 41/100\n",
      "7/7 [==============================] - 58s 8s/step - loss: 0.8374 - accuracy: 0.7812 - val_loss: 0.6770 - val_accuracy: 0.8594\n",
      "Epoch 42/100\n",
      "7/7 [==============================] - 52s 8s/step - loss: 0.7588 - accuracy: 0.8213 - val_loss: 0.6350 - val_accuracy: 0.8594\n",
      "Epoch 43/100\n",
      "7/7 [==============================] - 55s 8s/step - loss: 0.7321 - accuracy: 0.7946 - val_loss: 0.7254 - val_accuracy: 0.8281\n",
      "Epoch 44/100\n",
      "7/7 [==============================] - 56s 8s/step - loss: 0.7012 - accuracy: 0.8304 - val_loss: 0.5480 - val_accuracy: 0.9219\n",
      "Epoch 45/100\n",
      "7/7 [==============================] - 52s 7s/step - loss: 0.7708 - accuracy: 0.7874 - val_loss: 0.4675 - val_accuracy: 0.8750\n",
      "Epoch 46/100\n",
      "7/7 [==============================] - 55s 8s/step - loss: 0.7388 - accuracy: 0.8125 - val_loss: 0.5431 - val_accuracy: 0.8594\n",
      "Epoch 47/100\n",
      "7/7 [==============================] - 55s 8s/step - loss: 0.7451 - accuracy: 0.8482 - val_loss: 0.9926 - val_accuracy: 0.8906\n",
      "Epoch 48/100\n",
      "7/7 [==============================] - 57s 8s/step - loss: 0.8000 - accuracy: 0.7812 - val_loss: 0.5250 - val_accuracy: 0.8750\n",
      "Epoch 49/100\n",
      "7/7 [==============================] - 53s 8s/step - loss: 0.6490 - accuracy: 0.8164 - val_loss: 0.7267 - val_accuracy: 0.7812\n",
      "Epoch 50/100\n",
      "7/7 [==============================] - 56s 8s/step - loss: 0.6945 - accuracy: 0.7991 - val_loss: 0.6240 - val_accuracy: 0.8438\n",
      "Epoch 51/100\n",
      "7/7 [==============================] - 53s 8s/step - loss: 0.6697 - accuracy: 0.8454 - val_loss: 0.5163 - val_accuracy: 0.8750\n",
      "Epoch 52/100\n",
      "7/7 [==============================] - 56s 8s/step - loss: 0.7415 - accuracy: 0.8214 - val_loss: 0.9991 - val_accuracy: 0.8594\n",
      "Epoch 53/100\n",
      "7/7 [==============================] - 52s 7s/step - loss: 0.7088 - accuracy: 0.8309 - val_loss: 0.8826 - val_accuracy: 0.9062\n",
      "Epoch 54/100\n",
      "7/7 [==============================] - 54s 8s/step - loss: 0.7448 - accuracy: 0.8170 - val_loss: 0.4412 - val_accuracy: 0.9531\n",
      "Epoch 55/100\n",
      "7/7 [==============================] - 51s 7s/step - loss: 0.6499 - accuracy: 0.8357 - val_loss: 0.8807 - val_accuracy: 0.8906\n",
      "Epoch 56/100\n",
      "7/7 [==============================] - 55s 8s/step - loss: 0.6274 - accuracy: 0.8357 - val_loss: 0.6077 - val_accuracy: 0.8594\n",
      "Epoch 57/100\n",
      "7/7 [==============================] - 52s 7s/step - loss: 0.7305 - accuracy: 0.7874 - val_loss: 0.4542 - val_accuracy: 0.8906\n",
      "Epoch 58/100\n",
      "7/7 [==============================] - 52s 8s/step - loss: 0.5844 - accuracy: 0.8406 - val_loss: 0.5059 - val_accuracy: 0.8906\n",
      "Epoch 59/100\n"
     ]
    },
    {
     "name": "stdout",
     "output_type": "stream",
     "text": [
      "7/7 [==============================] - 56s 8s/step - loss: 0.6071 - accuracy: 0.8705 - val_loss: 0.8927 - val_accuracy: 0.9062\n",
      "Epoch 60/100\n",
      "7/7 [==============================] - 55s 8s/step - loss: 0.6521 - accuracy: 0.8259 - val_loss: 0.8232 - val_accuracy: 0.8906\n",
      "Epoch 61/100\n",
      "7/7 [==============================] - 71s 11s/step - loss: 0.6126 - accuracy: 0.8304 - val_loss: 0.4627 - val_accuracy: 0.8906\n",
      "Epoch 62/100\n",
      "7/7 [==============================] - 139s 20s/step - loss: 0.6146 - accuracy: 0.8889 - val_loss: 0.3827 - val_accuracy: 0.9219\n",
      "Epoch 63/100\n",
      "7/7 [==============================] - 145s 23s/step - loss: 0.5836 - accuracy: 0.8696 - val_loss: 0.3814 - val_accuracy: 0.9375\n",
      "Epoch 64/100\n",
      "7/7 [==============================] - 145s 21s/step - loss: 0.5655 - accuracy: 0.8795 - val_loss: 0.4197 - val_accuracy: 0.9531\n",
      "Epoch 65/100\n",
      "7/7 [==============================] - 132s 19s/step - loss: 0.6064 - accuracy: 0.8164 - val_loss: 0.4293 - val_accuracy: 0.9219\n",
      "Epoch 66/100\n",
      "7/7 [==============================] - 145s 21s/step - loss: 0.5563 - accuracy: 0.8438 - val_loss: 0.3838 - val_accuracy: 0.9375\n",
      "Epoch 67/100\n",
      "7/7 [==============================] - 141s 20s/step - loss: 0.5676 - accuracy: 0.8647 - val_loss: 0.4889 - val_accuracy: 0.9219\n",
      "Epoch 68/100\n",
      "7/7 [==============================] - 141s 21s/step - loss: 0.4981 - accuracy: 0.8973 - val_loss: 0.7976 - val_accuracy: 0.8906\n",
      "Epoch 69/100\n",
      "7/7 [==============================] - 137s 20s/step - loss: 0.5909 - accuracy: 0.8348 - val_loss: 0.3495 - val_accuracy: 0.9062\n",
      "Epoch 70/100\n",
      "7/7 [==============================] - 133s 19s/step - loss: 0.5260 - accuracy: 0.8647 - val_loss: 0.8000 - val_accuracy: 0.9062\n",
      "Epoch 71/100\n",
      "7/7 [==============================] - 134s 19s/step - loss: 0.4526 - accuracy: 0.8986 - val_loss: 0.6718 - val_accuracy: 0.9375\n",
      "Epoch 72/100\n",
      "7/7 [==============================] - 140s 20s/step - loss: 0.5199 - accuracy: 0.8973 - val_loss: 0.3629 - val_accuracy: 0.9531\n",
      "Epoch 73/100\n",
      "7/7 [==============================] - 143s 21s/step - loss: 0.5343 - accuracy: 0.8750 - val_loss: 0.7017 - val_accuracy: 0.9688\n",
      "Epoch 74/100\n",
      "7/7 [==============================] - 140s 20s/step - loss: 0.5409 - accuracy: 0.8571 - val_loss: 0.2862 - val_accuracy: 0.9531\n",
      "Epoch 75/100\n",
      "7/7 [==============================] - 142s 21s/step - loss: 0.5237 - accuracy: 0.9018 - val_loss: 0.2938 - val_accuracy: 0.9531\n",
      "Epoch 76/100\n",
      "7/7 [==============================] - 138s 20s/step - loss: 0.5060 - accuracy: 0.8839 - val_loss: 0.2429 - val_accuracy: 1.0000\n",
      "Epoch 77/100\n",
      "7/7 [==============================] - 141s 21s/step - loss: 0.5143 - accuracy: 0.8750 - val_loss: 0.3542 - val_accuracy: 0.9844\n",
      "Epoch 78/100\n",
      "7/7 [==============================] - 145s 21s/step - loss: 0.4721 - accuracy: 0.8929 - val_loss: 0.4384 - val_accuracy: 0.8750\n",
      "Epoch 79/100\n",
      "7/7 [==============================] - 142s 21s/step - loss: 0.4419 - accuracy: 0.9062 - val_loss: 0.3194 - val_accuracy: 0.9375\n",
      "Epoch 80/100\n",
      "7/7 [==============================] - 144s 21s/step - loss: 0.4647 - accuracy: 0.9034 - val_loss: 0.6656 - val_accuracy: 0.9375\n",
      "Epoch 81/100\n",
      "7/7 [==============================] - 133s 19s/step - loss: 0.4124 - accuracy: 0.9179 - val_loss: 0.3604 - val_accuracy: 0.9219\n",
      "Epoch 82/100\n",
      "7/7 [==============================] - 130s 19s/step - loss: 0.3994 - accuracy: 0.9275 - val_loss: 0.3554 - val_accuracy: 0.9688\n",
      "Epoch 83/100\n",
      "7/7 [==============================] - 135s 19s/step - loss: 0.3636 - accuracy: 0.9275 - val_loss: 0.3084 - val_accuracy: 0.9688\n",
      "Epoch 84/100\n",
      "7/7 [==============================] - 139s 20s/step - loss: 0.4406 - accuracy: 0.8750 - val_loss: 0.3318 - val_accuracy: 0.9531\n",
      "Epoch 85/100\n",
      "7/7 [==============================] - 130s 19s/step - loss: 0.4715 - accuracy: 0.8986 - val_loss: 0.2445 - val_accuracy: 0.9844\n",
      "Epoch 86/100\n",
      "7/7 [==============================] - 132s 19s/step - loss: 0.3696 - accuracy: 0.9324 - val_loss: 0.2488 - val_accuracy: 0.9219\n",
      "Epoch 87/100\n",
      "7/7 [==============================] - 139s 20s/step - loss: 0.4046 - accuracy: 0.8929 - val_loss: 0.2589 - val_accuracy: 0.9531\n",
      "Epoch 88/100\n",
      "7/7 [==============================] - 144s 21s/step - loss: 0.4836 - accuracy: 0.8705 - val_loss: 0.2756 - val_accuracy: 0.9531\n",
      "Epoch 89/100\n",
      "7/7 [==============================] - 139s 20s/step - loss: 0.3378 - accuracy: 0.9286 - val_loss: 0.3377 - val_accuracy: 0.9375\n",
      "Epoch 90/100\n",
      "7/7 [==============================] - 140s 20s/step - loss: 0.4223 - accuracy: 0.9375 - val_loss: 0.6681 - val_accuracy: 0.9375\n",
      "Epoch 91/100\n",
      "7/7 [==============================] - 140s 20s/step - loss: 0.4766 - accuracy: 0.8884 - val_loss: 0.6904 - val_accuracy: 0.9219\n",
      "Epoch 92/100\n",
      "7/7 [==============================] - 153s 22s/step - loss: 0.4271 - accuracy: 0.9196 - val_loss: 0.2406 - val_accuracy: 0.9844\n",
      "Epoch 93/100\n",
      "7/7 [==============================] - 140s 22s/step - loss: 0.3463 - accuracy: 0.9227 - val_loss: 0.5464 - val_accuracy: 0.9844\n",
      "Epoch 94/100\n",
      "7/7 [==============================] - 143s 21s/step - loss: 0.3742 - accuracy: 0.9330 - val_loss: 0.1971 - val_accuracy: 0.9844\n",
      "Epoch 95/100\n",
      "7/7 [==============================] - 137s 21s/step - loss: 0.3800 - accuracy: 0.9227 - val_loss: 0.2066 - val_accuracy: 1.0000\n",
      "Epoch 96/100\n",
      "7/7 [==============================] - 135s 19s/step - loss: 0.4085 - accuracy: 0.9275 - val_loss: 0.2383 - val_accuracy: 0.9844\n",
      "Epoch 97/100\n",
      "7/7 [==============================] - 135s 20s/step - loss: 0.3598 - accuracy: 0.9107 - val_loss: 0.6571 - val_accuracy: 0.9531\n",
      "Epoch 98/100\n",
      "7/7 [==============================] - 139s 20s/step - loss: 0.3705 - accuracy: 0.9062 - val_loss: 0.7136 - val_accuracy: 0.9219\n",
      "Epoch 99/100\n",
      "7/7 [==============================] - 143s 21s/step - loss: 0.3691 - accuracy: 0.9330 - val_loss: 0.2313 - val_accuracy: 0.9688\n",
      "Epoch 100/100\n",
      "7/7 [==============================] - 149s 22s/step - loss: 0.4062 - accuracy: 0.9107 - val_loss: 0.2816 - val_accuracy: 0.9219\n"
     ]
    }
   ],
   "source": [
    "r = model.fit(\n",
    "    train_set,\n",
    "    validation_data=test_set,\n",
    "    epochs=100,\n",
    "    steps_per_epoch=len(train_set)//3,\n",
    "    validation_steps=len(test_set)//3\n",
    ")"
   ]
  },
  {
   "cell_type": "code",
   "execution_count": 27,
   "id": "c5f015e0-596c-4e41-a4de-ba8513ae6493",
   "metadata": {},
   "outputs": [],
   "source": [
    "model.save(\"vgg-16-nail-disease.h5\")\n"
   ]
  },
  {
   "cell_type": "code",
   "execution_count": 28,
   "id": "f7a2d288-b1a0-431f-a9f3-ec392eeeb8c1",
   "metadata": {},
   "outputs": [],
   "source": [
    "#import load_model class for loading h5 file\n",
    "from tensorflow.keras.models import load_model\n",
    "#import image class to process the images\n",
    "from tensorflow.keras.preprocessing import image\n",
    "from tensorflow.keras.applications.inception_v3 import preprocess_input\n",
    "import numpy as np\n",
    "\n"
   ]
  },
  {
   "cell_type": "code",
   "execution_count": 29,
   "id": "970d562c-8d80-4d04-86ea-6a76ff1ea852",
   "metadata": {},
   "outputs": [],
   "source": [
    "#load saved model file\n",
    "model=load_model('vgg-16-nail-disease.h5')"
   ]
  },
  {
   "cell_type": "code",
   "execution_count": 30,
   "id": "139ef2c0-5285-48df-8806-17a05b218e16",
   "metadata": {},
   "outputs": [],
   "source": [
    "img=image.load_img( r\"C:\\Users\\SHUBHAM\\OneDrive\\Desktop\\early-stage-disease-diagnosis-system\\dataset\\test\\aloperia areata\\1.PNG\",target_size=(224,224))"
   ]
  },
  {
   "cell_type": "code",
   "execution_count": 31,
   "id": "12ead508-28d1-4dcb-9e9a-66ba779a081d",
   "metadata": {},
   "outputs": [],
   "source": [
    "x=image.img_to_array(img)"
   ]
  },
  {
   "cell_type": "code",
   "execution_count": 32,
   "id": "36baf3e0-cdc5-44f1-b61a-226985946fd5",
   "metadata": {},
   "outputs": [],
   "source": [
    "x = x / 255.0                    # Normalize\n",
    "x = np.expand_dims(x, axis=0) "
   ]
  },
  {
   "cell_type": "code",
   "execution_count": 33,
   "id": "3df3a647-a9c6-4051-a80d-75f293093a76",
   "metadata": {},
   "outputs": [
    {
     "name": "stdout",
     "output_type": "stream",
     "text": [
      "1/1 [==============================] - 3s 3s/step\n"
     ]
    },
    {
     "data": {
      "text/plain": [
       "array([[1.9757188e-04, 7.8960042e-04, 9.6913010e-01, 5.8780401e-03,\n",
       "        4.1287523e-03, 1.9362130e-03, 5.2216637e-04, 5.8325166e-03,\n",
       "        9.8125418e-11, 1.6385658e-10, 1.0568092e-03, 6.5883454e-05,\n",
       "        6.8057398e-03, 2.5427446e-04, 8.7144588e-05, 2.3106458e-03,\n",
       "        4.7973421e-04, 1.8712849e-04, 3.3759119e-04]], dtype=float32)"
      ]
     },
     "execution_count": 33,
     "metadata": {},
     "output_type": "execute_result"
    }
   ],
   "source": [
    "model.predict(x)"
   ]
  },
  {
   "cell_type": "code",
   "execution_count": 34,
   "id": "4f8a48c4-45b0-4ca1-accf-3c985b356237",
   "metadata": {},
   "outputs": [
    {
     "name": "stdout",
     "output_type": "stream",
     "text": [
      "1/1 [==============================] - 1s 829ms/step\n"
     ]
    }
   ],
   "source": [
    "op=np.argmax(model.predict(x),axis=1)"
   ]
  },
  {
   "cell_type": "code",
   "execution_count": 35,
   "id": "dbf92766-bc9e-42f6-98e5-4f437558996a",
   "metadata": {},
   "outputs": [
    {
     "data": {
      "text/plain": [
       "array([2], dtype=int64)"
      ]
     },
     "execution_count": 35,
     "metadata": {},
     "output_type": "execute_result"
    }
   ],
   "source": [
    "op"
   ]
  },
  {
   "cell_type": "code",
   "execution_count": 36,
   "id": "92eb9fc8-38bc-4545-b6f8-a57615175ade",
   "metadata": {},
   "outputs": [],
   "source": [
    "index=['Darier_s disease', 'Muehrck-e s lines', 'aloperia areata', 'beau_s lines', 'bluish nail',\n",
    "'clubbing','eczema','half and half nailes (Lindsay_s nails)','koilonychia','leukonychia',\n",
    "'onycholycis','pale nail','red lunula', 'splinter hemmorrage','terry_s nail', 'white nail', 'yellow nails']\n"
   ]
  },
  {
   "cell_type": "code",
   "execution_count": 37,
   "id": "ad8be02b-2b9d-49ab-aa79-5317aa6547ec",
   "metadata": {},
   "outputs": [
    {
     "data": {
      "text/plain": [
       "'aloperia areata'"
      ]
     },
     "execution_count": 37,
     "metadata": {},
     "output_type": "execute_result"
    }
   ],
   "source": [
    "result = str(index[op[0]])\n",
    "result"
   ]
  },
  {
   "cell_type": "code",
   "execution_count": null,
   "id": "038ea0ad-d7f8-4155-a126-e42347118234",
   "metadata": {},
   "outputs": [],
   "source": []
  }
 ],
 "metadata": {
  "kernelspec": {
   "display_name": "Python 3 (ipykernel)",
   "language": "python",
   "name": "python3"
  },
  "language_info": {
   "codemirror_mode": {
    "name": "ipython",
    "version": 3
   },
   "file_extension": ".py",
   "mimetype": "text/x-python",
   "name": "python",
   "nbconvert_exporter": "python",
   "pygments_lexer": "ipython3",
   "version": "3.9.7"
  }
 },
 "nbformat": 4,
 "nbformat_minor": 5
}
